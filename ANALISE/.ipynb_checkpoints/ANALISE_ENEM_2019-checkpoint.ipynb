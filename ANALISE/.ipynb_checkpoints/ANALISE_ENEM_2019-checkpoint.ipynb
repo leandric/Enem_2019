{
 "cells": [
  {
   "cell_type": "code",
   "execution_count": 1,
   "metadata": {},
   "outputs": [],
   "source": [
    "import pandas as pd\n",
    "import numpy as np\n",
    "import matplotlib.pyplot as plt"
   ]
  },
  {
   "cell_type": "markdown",
   "metadata": {},
   "source": [
    "<h3>Para esse modelo, escolhi apenas 20 das colunas das 136</h3>"
   ]
  },
  {
   "cell_type": "code",
   "execution_count": 2,
   "metadata": {},
   "outputs": [],
   "source": [
    "variaveis = ['SG_UF_RESIDENCIA'\n",
    ",'NU_IDADE'\n",
    ",'TP_SEXO'\n",
    ",'TP_COR_RACA'\n",
    ",'TP_ANO_CONCLUIU'\n",
    ",'TP_ESCOLA'\n",
    ",'IN_NOME_SOCIAL'\n",
    ",'NU_NOTA_CN'\n",
    ",'NU_NOTA_CH'\n",
    ",'NU_NOTA_LC'\n",
    ",'NU_NOTA_MT'\n",
    ",'TP_STATUS_REDACAO'\n",
    ",'NU_NOTA_REDACAO'\n",
    ",'TP_LINGUA'\n",
    ",'Q006'\n",
    ",'Q025'\n",
    ",'TP_PRESENCA_CN'\n",
    ",'TP_PRESENCA_CH'\n",
    ",'TP_PRESENCA_LC'\n",
    ",'TP_PRESENCA_MT']"
   ]
  },
  {
   "cell_type": "markdown",
   "metadata": {},
   "source": [
    "<h3>Dataframe Principal</h3>"
   ]
  },
  {
   "cell_type": "code",
   "execution_count": 3,
   "metadata": {},
   "outputs": [],
   "source": [
    "df_microdados = pd.read_csv('../DADOS/MICRODADOS_ENEM_2019.csv',encoding='ISO-8859-1', usecols = variaveis, index_col=None, sep = ';')\n",
    "#df_microdados.to_csv(\"df_microdados.csv\", index = False) #aproveitei para exportar a base para usar futuramente"
   ]
  },
  {
   "cell_type": "code",
   "execution_count": 4,
   "metadata": {},
   "outputs": [],
   "source": [
    "#Dataframes Auxiliares (dimensões e afins)\n",
    "\n",
    "df_idade = pd.read_excel(open('Tabelas Auxiliares.xlsx', 'rb'), sheet_name='Idade', index_col=None)\n",
    "df_sexo = pd.read_excel(open('Tabelas Auxiliares.xlsx', 'rb'), sheet_name='Sexo', index_col=None)\n",
    "df_presente_natureza = pd.read_excel(open('Tabelas Auxiliares.xlsx', 'rb'), sheet_name='PRESENCA_NATUREZA', index_col=None)\n",
    "df_presente_humanas = pd.read_excel(open('Tabelas Auxiliares.xlsx', 'rb'), sheet_name='PRESENCA_HUMANAS', index_col=None)\n",
    "df_presente_linguagem = pd.read_excel(open('Tabelas Auxiliares.xlsx', 'rb'), sheet_name='PRESENCA_LINGUAGEM', index_col=None)\n",
    "df_presente_matemática = pd.read_excel(open('Tabelas Auxiliares.xlsx', 'rb'), sheet_name='PRESENCA_MATEMATICA', index_col=None)\n",
    "df_acesso_internet = pd.read_excel(open('Tabelas Auxiliares.xlsx', 'rb'), sheet_name='ACESSO_INTERNET', index_col=None)\n",
    "df_renda_familiar = pd.read_excel(open('Tabelas Auxiliares.xlsx', 'rb'), sheet_name='RENDA_FA', index_col=None)\n",
    "df_estado = pd.read_excel(open('Tabelas Auxiliares.xlsx', 'rb'), sheet_name='ESTADO', index_col=None)\n",
    "df_raça = pd.read_excel(open('Tabelas Auxiliares.xlsx', 'rb'), sheet_name='RAÇA', index_col=None)\n",
    "df_conclusão_medio = pd.read_excel(open('Tabelas Auxiliares.xlsx', 'rb'), sheet_name='CONCLUSAO_ENSINO_ANO', index_col=None)\n",
    "df_tipo_escola = pd.read_excel(open('Tabelas Auxiliares.xlsx', 'rb'), sheet_name='TIPO_ESCOLA', index_col=None)\n",
    "df_status_redacao = pd.read_excel(open('Tabelas Auxiliares.xlsx', 'rb'), sheet_name='REDAÇÃO', index_col=None)\n",
    "df_idioma_escolhido = pd.read_excel(open('Tabelas Auxiliares.xlsx', 'rb'), sheet_name='LINGUAGEM_ESCOLHIDA', index_col=None)"
   ]
  },
  {
   "cell_type": "markdown",
   "metadata": {},
   "source": [
    "<h1>Estrtura de dados</h1>\n",
    "<p>Estudando o dicionários de dados optei por criar uma serie de dataframes auxiliares para extrair as informações eliminando os codigos de respostas.</p>\n",
    "<p>Traduzindo em um DER teriamos o modelo abaixo:</p>\n",
    "<img src=\"imagens/estrutura.PNG\" alt=\"Girl in a jacket\">\n",
    "<p><i>Aproveitei o modelo gerado pelo <span style=\"color:orange\">PowerBI</span> já que pretendo construir um painel nele com estes dataframes.</i></p>"
   ]
  },
  {
   "cell_type": "code",
   "execution_count": 5,
   "metadata": {},
   "outputs": [
    {
     "ename": "KeyError",
     "evalue": "'TP_PRESENCA_CH'",
     "output_type": "error",
     "traceback": [
      "\u001b[1;31m---------------------------------------------------------------------------\u001b[0m",
      "\u001b[1;31mKeyError\u001b[0m                                  Traceback (most recent call last)",
      "\u001b[1;32m<ipython-input-5-9398607316ba>\u001b[0m in \u001b[0;36m<module>\u001b[1;34m\u001b[0m\n\u001b[0;32m     10\u001b[0m \u001b[0mdf_microdados\u001b[0m \u001b[1;33m=\u001b[0m \u001b[0mdf_microdados\u001b[0m \u001b[1;33m=\u001b[0m \u001b[0mpd\u001b[0m\u001b[1;33m.\u001b[0m\u001b[0mmerge\u001b[0m\u001b[1;33m(\u001b[0m\u001b[0mleft\u001b[0m \u001b[1;33m=\u001b[0m \u001b[0mdf_microdados\u001b[0m\u001b[1;33m,\u001b[0m \u001b[0mright\u001b[0m \u001b[1;33m=\u001b[0m \u001b[0mdf_idioma_escolhido\u001b[0m\u001b[1;33m,\u001b[0m \u001b[0mon\u001b[0m\u001b[1;33m=\u001b[0m\u001b[1;34m\"TP_LINGUA\"\u001b[0m\u001b[1;33m)\u001b[0m\u001b[1;33m\u001b[0m\u001b[1;33m\u001b[0m\u001b[0m\n\u001b[0;32m     11\u001b[0m \u001b[0mdf_microdados\u001b[0m \u001b[1;33m=\u001b[0m \u001b[0mdf_microdados\u001b[0m \u001b[1;33m=\u001b[0m \u001b[0mpd\u001b[0m\u001b[1;33m.\u001b[0m\u001b[0mmerge\u001b[0m\u001b[1;33m(\u001b[0m\u001b[0mleft\u001b[0m \u001b[1;33m=\u001b[0m \u001b[0mdf_microdados\u001b[0m\u001b[1;33m,\u001b[0m \u001b[0mright\u001b[0m \u001b[1;33m=\u001b[0m \u001b[0mdf_presente_natureza\u001b[0m\u001b[1;33m,\u001b[0m \u001b[0mon\u001b[0m\u001b[1;33m=\u001b[0m\u001b[1;34m\"TP_PRESENCA_CN\"\u001b[0m\u001b[1;33m)\u001b[0m\u001b[1;33m\u001b[0m\u001b[1;33m\u001b[0m\u001b[0m\n\u001b[1;32m---> 12\u001b[1;33m \u001b[0mdf_microdados\u001b[0m \u001b[1;33m=\u001b[0m \u001b[0mdf_microdados\u001b[0m \u001b[1;33m=\u001b[0m \u001b[0mpd\u001b[0m\u001b[1;33m.\u001b[0m\u001b[0mmerge\u001b[0m\u001b[1;33m(\u001b[0m\u001b[0mleft\u001b[0m \u001b[1;33m=\u001b[0m \u001b[0mdf_microdados\u001b[0m\u001b[1;33m,\u001b[0m \u001b[0mright\u001b[0m \u001b[1;33m=\u001b[0m \u001b[0mdf_presente_humanas\u001b[0m\u001b[1;33m,\u001b[0m \u001b[0mon\u001b[0m\u001b[1;33m=\u001b[0m\u001b[1;34m\"TP_PRESENCA_CH\"\u001b[0m\u001b[1;33m)\u001b[0m\u001b[1;33m\u001b[0m\u001b[1;33m\u001b[0m\u001b[0m\n\u001b[0m\u001b[0;32m     13\u001b[0m \u001b[0mdf_microdados\u001b[0m \u001b[1;33m=\u001b[0m \u001b[0mdf_microdados\u001b[0m \u001b[1;33m=\u001b[0m \u001b[0mpd\u001b[0m\u001b[1;33m.\u001b[0m\u001b[0mmerge\u001b[0m\u001b[1;33m(\u001b[0m\u001b[0mleft\u001b[0m \u001b[1;33m=\u001b[0m \u001b[0mdf_microdados\u001b[0m\u001b[1;33m,\u001b[0m \u001b[0mright\u001b[0m \u001b[1;33m=\u001b[0m \u001b[0mdf_presente_linguagem\u001b[0m\u001b[1;33m,\u001b[0m \u001b[0mon\u001b[0m\u001b[1;33m=\u001b[0m\u001b[1;34m\"TP_PRESENCA_LC\"\u001b[0m\u001b[1;33m)\u001b[0m\u001b[1;33m\u001b[0m\u001b[1;33m\u001b[0m\u001b[0m\n\u001b[0;32m     14\u001b[0m \u001b[0mdf_microdados\u001b[0m \u001b[1;33m=\u001b[0m \u001b[0mdf_microdados\u001b[0m \u001b[1;33m=\u001b[0m \u001b[0mpd\u001b[0m\u001b[1;33m.\u001b[0m\u001b[0mmerge\u001b[0m\u001b[1;33m(\u001b[0m\u001b[0mleft\u001b[0m \u001b[1;33m=\u001b[0m \u001b[0mdf_microdados\u001b[0m\u001b[1;33m,\u001b[0m \u001b[0mright\u001b[0m \u001b[1;33m=\u001b[0m \u001b[0mdf_presente_matemática\u001b[0m\u001b[1;33m,\u001b[0m \u001b[0mon\u001b[0m\u001b[1;33m=\u001b[0m\u001b[1;34m\"TP_PRESENCA_MT\"\u001b[0m\u001b[1;33m)\u001b[0m\u001b[1;33m\u001b[0m\u001b[1;33m\u001b[0m\u001b[0m\n",
      "\u001b[1;32m~\\anaconda3_v2\\lib\\site-packages\\pandas\\core\\reshape\\merge.py\u001b[0m in \u001b[0;36mmerge\u001b[1;34m(left, right, how, on, left_on, right_on, left_index, right_index, sort, suffixes, copy, indicator, validate)\u001b[0m\n\u001b[0;32m     72\u001b[0m     \u001b[0mvalidate\u001b[0m\u001b[1;33m=\u001b[0m\u001b[1;32mNone\u001b[0m\u001b[1;33m,\u001b[0m\u001b[1;33m\u001b[0m\u001b[1;33m\u001b[0m\u001b[0m\n\u001b[0;32m     73\u001b[0m ) -> \"DataFrame\":\n\u001b[1;32m---> 74\u001b[1;33m     op = _MergeOperation(\n\u001b[0m\u001b[0;32m     75\u001b[0m         \u001b[0mleft\u001b[0m\u001b[1;33m,\u001b[0m\u001b[1;33m\u001b[0m\u001b[1;33m\u001b[0m\u001b[0m\n\u001b[0;32m     76\u001b[0m         \u001b[0mright\u001b[0m\u001b[1;33m,\u001b[0m\u001b[1;33m\u001b[0m\u001b[1;33m\u001b[0m\u001b[0m\n",
      "\u001b[1;32m~\\anaconda3_v2\\lib\\site-packages\\pandas\\core\\reshape\\merge.py\u001b[0m in \u001b[0;36m__init__\u001b[1;34m(self, left, right, how, on, left_on, right_on, axis, left_index, right_index, sort, suffixes, copy, indicator, validate)\u001b[0m\n\u001b[0;32m    650\u001b[0m             \u001b[0mself\u001b[0m\u001b[1;33m.\u001b[0m\u001b[0mright_join_keys\u001b[0m\u001b[1;33m,\u001b[0m\u001b[1;33m\u001b[0m\u001b[1;33m\u001b[0m\u001b[0m\n\u001b[0;32m    651\u001b[0m             \u001b[0mself\u001b[0m\u001b[1;33m.\u001b[0m\u001b[0mjoin_names\u001b[0m\u001b[1;33m,\u001b[0m\u001b[1;33m\u001b[0m\u001b[1;33m\u001b[0m\u001b[0m\n\u001b[1;32m--> 652\u001b[1;33m         ) = self._get_merge_keys()\n\u001b[0m\u001b[0;32m    653\u001b[0m \u001b[1;33m\u001b[0m\u001b[0m\n\u001b[0;32m    654\u001b[0m         \u001b[1;31m# validate the merge keys dtypes. We may need to coerce\u001b[0m\u001b[1;33m\u001b[0m\u001b[1;33m\u001b[0m\u001b[1;33m\u001b[0m\u001b[0m\n",
      "\u001b[1;32m~\\anaconda3_v2\\lib\\site-packages\\pandas\\core\\reshape\\merge.py\u001b[0m in \u001b[0;36m_get_merge_keys\u001b[1;34m(self)\u001b[0m\n\u001b[0;32m   1003\u001b[0m                     \u001b[1;32mif\u001b[0m \u001b[1;32mnot\u001b[0m \u001b[0mis_rkey\u001b[0m\u001b[1;33m(\u001b[0m\u001b[0mrk\u001b[0m\u001b[1;33m)\u001b[0m\u001b[1;33m:\u001b[0m\u001b[1;33m\u001b[0m\u001b[1;33m\u001b[0m\u001b[0m\n\u001b[0;32m   1004\u001b[0m                         \u001b[1;32mif\u001b[0m \u001b[0mrk\u001b[0m \u001b[1;32mis\u001b[0m \u001b[1;32mnot\u001b[0m \u001b[1;32mNone\u001b[0m\u001b[1;33m:\u001b[0m\u001b[1;33m\u001b[0m\u001b[1;33m\u001b[0m\u001b[0m\n\u001b[1;32m-> 1005\u001b[1;33m                             \u001b[0mright_keys\u001b[0m\u001b[1;33m.\u001b[0m\u001b[0mappend\u001b[0m\u001b[1;33m(\u001b[0m\u001b[0mright\u001b[0m\u001b[1;33m.\u001b[0m\u001b[0m_get_label_or_level_values\u001b[0m\u001b[1;33m(\u001b[0m\u001b[0mrk\u001b[0m\u001b[1;33m)\u001b[0m\u001b[1;33m)\u001b[0m\u001b[1;33m\u001b[0m\u001b[1;33m\u001b[0m\u001b[0m\n\u001b[0m\u001b[0;32m   1006\u001b[0m                         \u001b[1;32melse\u001b[0m\u001b[1;33m:\u001b[0m\u001b[1;33m\u001b[0m\u001b[1;33m\u001b[0m\u001b[0m\n\u001b[0;32m   1007\u001b[0m                             \u001b[1;31m# work-around for merge_asof(right_index=True)\u001b[0m\u001b[1;33m\u001b[0m\u001b[1;33m\u001b[0m\u001b[1;33m\u001b[0m\u001b[0m\n",
      "\u001b[1;32m~\\anaconda3_v2\\lib\\site-packages\\pandas\\core\\generic.py\u001b[0m in \u001b[0;36m_get_label_or_level_values\u001b[1;34m(self, key, axis)\u001b[0m\n\u001b[0;32m   1561\u001b[0m             \u001b[0mvalues\u001b[0m \u001b[1;33m=\u001b[0m \u001b[0mself\u001b[0m\u001b[1;33m.\u001b[0m\u001b[0maxes\u001b[0m\u001b[1;33m[\u001b[0m\u001b[0maxis\u001b[0m\u001b[1;33m]\u001b[0m\u001b[1;33m.\u001b[0m\u001b[0mget_level_values\u001b[0m\u001b[1;33m(\u001b[0m\u001b[0mkey\u001b[0m\u001b[1;33m)\u001b[0m\u001b[1;33m.\u001b[0m\u001b[0m_values\u001b[0m\u001b[1;33m\u001b[0m\u001b[1;33m\u001b[0m\u001b[0m\n\u001b[0;32m   1562\u001b[0m         \u001b[1;32melse\u001b[0m\u001b[1;33m:\u001b[0m\u001b[1;33m\u001b[0m\u001b[1;33m\u001b[0m\u001b[0m\n\u001b[1;32m-> 1563\u001b[1;33m             \u001b[1;32mraise\u001b[0m \u001b[0mKeyError\u001b[0m\u001b[1;33m(\u001b[0m\u001b[0mkey\u001b[0m\u001b[1;33m)\u001b[0m\u001b[1;33m\u001b[0m\u001b[1;33m\u001b[0m\u001b[0m\n\u001b[0m\u001b[0;32m   1564\u001b[0m \u001b[1;33m\u001b[0m\u001b[0m\n\u001b[0;32m   1565\u001b[0m         \u001b[1;31m# Check for duplicates\u001b[0m\u001b[1;33m\u001b[0m\u001b[1;33m\u001b[0m\u001b[1;33m\u001b[0m\u001b[0m\n",
      "\u001b[1;31mKeyError\u001b[0m: 'TP_PRESENCA_CH'"
     ]
    }
   ],
   "source": [
    "#fato_dw = pd.merge(left= origem_pedidos, right= origem_produto, how='left', left_on='produto', right_on='id')\n",
    "\n",
    "#idade\n",
    "df_microdados = df_microdados = pd.merge(left = df_microdados, right = df_idade, on=\"NU_IDADE\")\n",
    "df_microdados = df_microdados = pd.merge(left = df_microdados, right = df_sexo, on=\"TP_SEXO\")\n",
    "df_microdados = df_microdados = pd.merge(left = df_microdados, right = df_raça, on=\"TP_COR_RACA\")\n",
    "df_microdados = df_microdados = pd.merge(left = df_microdados, right = df_conclusão_medio, on=\"TP_ANO_CONCLUIU\")\n",
    "df_microdados = df_microdados = pd.merge(left = df_microdados, right = df_tipo_escola, on=\"TP_ESCOLA\")\n",
    "df_microdados = df_microdados = pd.merge(left = df_microdados, right = df_status_redacao, on=\"TP_STATUS_REDACAO\")\n",
    "df_microdados = df_microdados = pd.merge(left = df_microdados, right = df_idioma_escolhido, on=\"TP_LINGUA\")\n",
    "df_microdados = df_microdados = pd.merge(left = df_microdados, right = df_presente_natureza, on=\"TP_PRESENCA_CN\")\n",
    "df_microdados = df_microdados = pd.merge(left = df_microdados, right = df_presente_humanas, on=\"TP_PRESENCA_CH\")\n",
    "df_microdados = df_microdados = pd.merge(left = df_microdados, right = df_presente_linguagem, on=\"TP_PRESENCA_LC\")\n",
    "df_microdados = df_microdados = pd.merge(left = df_microdados, right = df_presente_matemática, on=\"TP_PRESENCA_MT\")\n",
    "df_microdados = df_microdados = pd.merge(left = df_microdados, right = df_acesso_internet, on=\"Q025\")\n",
    "df_microdados = df_microdados = pd.merge(left = df_microdados, right = df_renda_familiar, on=\"Q006\")\n"
   ]
  },
  {
   "cell_type": "code",
   "execution_count": null,
   "metadata": {},
   "outputs": [],
   "source": [
    "df_microdados.head(2)"
   ]
  },
  {
   "cell_type": "code",
   "execution_count": null,
   "metadata": {},
   "outputs": [],
   "source": [
    "df_idade"
   ]
  },
  {
   "cell_type": "code",
   "execution_count": null,
   "metadata": {},
   "outputs": [],
   "source": [
    "df = pd.read_csv('base_selecionada.csv',encoding='ISO-8859-1', sep = ',', index_col=None)\n",
    "df.columns"
   ]
  },
  {
   "cell_type": "code",
   "execution_count": null,
   "metadata": {},
   "outputs": [],
   "source": [
    "participantes_UF = df.groupby('SG_UF_RESIDENCIA')['SG_UF_RESIDENCIA'].count()"
   ]
  },
  {
   "cell_type": "code",
   "execution_count": null,
   "metadata": {},
   "outputs": [],
   "source": [
    "participantes_UF.keys()"
   ]
  },
  {
   "cell_type": "code",
   "execution_count": null,
   "metadata": {},
   "outputs": [],
   "source": [
    "#plt.title('Dis')\n",
    "plt.xlabel('ESTADO')\n",
    "plt.ylabel('Quantidade')\n",
    "plt.plot(participantes_UF.keys(),participantes_UF)\n",
    "plt.show()"
   ]
  },
  {
   "cell_type": "code",
   "execution_count": null,
   "metadata": {},
   "outputs": [],
   "source": [
    "plt.xlabel('ESTADO')\n",
    "plt.ylabel('Quantidade')\n",
    "plt.bar(participantes_UF.keys(),participantes_UF,3, label = 'UF')\n",
    "plt.legend()\n",
    "plt.show()"
   ]
  },
  {
   "cell_type": "code",
   "execution_count": null,
   "metadata": {},
   "outputs": [],
   "source": [
    "plt.xlabel('ESTADO')\n",
    "plt.ylabel('Quantidade')\n",
    "plt.scatter(participantes_UF.keys(),participantes_UF, label = 'UF', color = 'r', marker='h', s=100)\n",
    "plt.plot(participantes_UF.keys(),participantes_UF)\n",
    "plt.legend()\n",
    "plt.show()"
   ]
  }
 ],
 "metadata": {
  "kernelspec": {
   "display_name": "Python 3",
   "language": "python",
   "name": "python3"
  },
  "language_info": {
   "codemirror_mode": {
    "name": "ipython",
    "version": 3
   },
   "file_extension": ".py",
   "mimetype": "text/x-python",
   "name": "python",
   "nbconvert_exporter": "python",
   "pygments_lexer": "ipython3",
   "version": "3.8.5"
  }
 },
 "nbformat": 4,
 "nbformat_minor": 4
}
