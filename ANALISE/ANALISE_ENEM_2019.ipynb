{
 "cells": [
  {
   "cell_type": "code",
   "execution_count": 1,
   "metadata": {},
   "outputs": [],
   "source": [
    "import pandas as pd\n",
    "import numpy as np\n",
    "import matplotlib.pyplot as plt\n",
    "\n",
    "pd.set_option('display.max_columns', None)"
   ]
  },
  {
   "cell_type": "markdown",
   "metadata": {},
   "source": [
    "<h3>Para esse modelo, escolhi apenas 20 das colunas das 136</h3>"
   ]
  },
  {
   "cell_type": "code",
   "execution_count": 2,
   "metadata": {},
   "outputs": [],
   "source": [
    "variaveis = ['SG_UF_RESIDENCIA'\n",
    ",'NU_IDADE'\n",
    ",'TP_SEXO'\n",
    ",'TP_COR_RACA'\n",
    ",'TP_ANO_CONCLUIU'\n",
    ",'TP_ESCOLA'\n",
    ",'IN_NOME_SOCIAL'\n",
    ",'NU_NOTA_CN'\n",
    ",'NU_NOTA_CH'\n",
    ",'NU_NOTA_LC'\n",
    ",'NU_NOTA_MT'\n",
    ",'TP_STATUS_REDACAO'\n",
    ",'NU_NOTA_REDACAO'\n",
    ",'TP_LINGUA'\n",
    ",'Q006'\n",
    ",'Q025'\n",
    ",'TP_PRESENCA_CN'\n",
    ",'TP_PRESENCA_CH'\n",
    ",'TP_PRESENCA_LC'\n",
    ",'TP_PRESENCA_MT']"
   ]
  },
  {
   "cell_type": "markdown",
   "metadata": {},
   "source": [
    "<h3>Dataframe Principal</h3>"
   ]
  },
  {
   "cell_type": "code",
   "execution_count": 3,
   "metadata": {},
   "outputs": [],
   "source": [
    "df_microdados = pd.read_csv('../DADOS/MICRODADOS_ENEM_2019.csv',encoding='ISO-8859-1', usecols = variaveis, index_col=None, sep = ';')\n",
    "#df_microdados.to_csv(\"df_microdados.csv\", index = False) #aproveitei para exportar a base para usar futuramente"
   ]
  },
  {
   "cell_type": "code",
   "execution_count": 4,
   "metadata": {},
   "outputs": [],
   "source": [
    "#Dataframes Auxiliares (dimensões e afins)\n",
    "\n",
    "df_idade = pd.read_excel(open('Tabelas Auxiliares.xlsx', 'rb'), sheet_name='Idade', index_col=None)\n",
    "df_sexo = pd.read_excel(open('Tabelas Auxiliares.xlsx', 'rb'), sheet_name='Sexo', index_col=None)\n",
    "df_presente_natureza = pd.read_excel(open('Tabelas Auxiliares.xlsx', 'rb'), sheet_name='PRESENCA_NATUREZA', index_col=None)\n",
    "df_presente_humanas = pd.read_excel(open('Tabelas Auxiliares.xlsx', 'rb'), sheet_name='PRESENCA_HUMANAS', index_col=None)\n",
    "df_presente_linguagem = pd.read_excel(open('Tabelas Auxiliares.xlsx', 'rb'), sheet_name='PRESENCA_LINGUAGEM', index_col=None)\n",
    "df_presente_matematica = pd.read_excel(open('Tabelas Auxiliares.xlsx', 'rb'), sheet_name='PRESENCA_MATEMATICA', index_col=None)\n",
    "df_acesso_internet = pd.read_excel(open('Tabelas Auxiliares.xlsx', 'rb'), sheet_name='ACESSO_INTERNET', index_col=None)\n",
    "df_renda_familiar = pd.read_excel(open('Tabelas Auxiliares.xlsx', 'rb'), sheet_name='RENDA_FA', index_col=None)\n",
    "df_estado = pd.read_excel(open('Tabelas Auxiliares.xlsx', 'rb'), sheet_name='ESTADO', index_col=None)\n",
    "df_raça = pd.read_excel(open('Tabelas Auxiliares.xlsx', 'rb'), sheet_name='RAÇA', index_col=None)\n",
    "df_conclusão_medio = pd.read_excel(open('Tabelas Auxiliares.xlsx', 'rb'), sheet_name='CONCLUSAO_ENSINO_ANO', index_col=None)\n",
    "df_tipo_escola = pd.read_excel(open('Tabelas Auxiliares.xlsx', 'rb'), sheet_name='TIPO_ESCOLA', index_col=None)\n",
    "df_status_redacao = pd.read_excel(open('Tabelas Auxiliares.xlsx', 'rb'), sheet_name='REDAÇÃO', index_col=None)\n",
    "df_idioma_escolhido = pd.read_excel(open('Tabelas Auxiliares.xlsx', 'rb'), sheet_name='LINGUAGEM_ESCOLHIDA', index_col=None)"
   ]
  },
  {
   "cell_type": "markdown",
   "metadata": {},
   "source": [
    "<h1>Estrtura de dados</h1>\n",
    "<p>Estudando o dicionários de dados optei por criar uma serie de dataframes auxiliares para extrair as informações eliminando os codigos de respostas.</p>\n",
    "<p>Traduzindo em um DER teriamos o modelo abaixo:</p>\n",
    "<img src=\"imagens/DER.PNG\" alt=\"Girl in a jacket\">\n",
    "<p><i>Aproveitei o modelo gerado pelo <span style=\"color:orange\">PowerBI</span> já que pretendo construir um painel nele com estes dataframes.</i></p>"
   ]
  },
  {
   "cell_type": "code",
   "execution_count": 5,
   "metadata": {},
   "outputs": [],
   "source": [
    "#fato_dw = pd.merge(left= origem_pedidos, right= origem_produto, how='left', left_on='produto', right_on='id')\n",
    "\n",
    "#idade\n",
    "df_microdados = pd.merge(left = df_microdados, right = df_idade, on=\"NU_IDADE\")\n",
    "df_microdados = pd.merge(left = df_microdados, right = df_sexo, on=\"TP_SEXO\")\n",
    "df_microdados = pd.merge(left = df_microdados, right = df_raça, on=\"TP_COR_RACA\")\n",
    "df_microdados = pd.merge(left = df_microdados, right = df_conclusão_medio, on=\"TP_ANO_CONCLUIU\")\n",
    "df_microdados = pd.merge(left = df_microdados, right = df_tipo_escola, on=\"TP_ESCOLA\")\n",
    "df_microdados = pd.merge(left = df_microdados, right = df_status_redacao, on=\"TP_STATUS_REDACAO\")\n",
    "df_microdados = pd.merge(left = df_microdados, right = df_idioma_escolhido, on=\"TP_LINGUA\")\n",
    "df_microdados = pd.merge(left = df_microdados, right = df_presente_natureza, on=\"TP_PRESENCA_CN\")\n",
    "df_microdados = pd.merge(left = df_microdados, right = df_presente_humanas, on=\"TP_PRESENCA_CH\")\n",
    "df_microdados = pd.merge(left = df_microdados, right = df_presente_linguagem, on=\"TP_PRESENCA_LC\")\n",
    "df_microdados = pd.merge(left = df_microdados, right = df_presente_matematica, on=\"TP_PRESENCA_MT\")\n",
    "df_microdados = pd.merge(left = df_microdados, right = df_acesso_internet, on=\"Q025\")\n",
    "df_microdados = pd.merge(left = df_microdados, right = df_renda_familiar, on=\"Q006\")"
   ]
  },
  {
   "cell_type": "code",
   "execution_count": 6,
   "metadata": {},
   "outputs": [],
   "source": [
    "filtro=['SG_UF_RESIDENCIA'\n",
    ",'NU_IDADE'\n",
    ",'NU_NOTA_CN'\n",
    ",'NU_NOTA_CH'\n",
    ",'NU_NOTA_LC'\n",
    ",'NU_NOTA_MT'\n",
    ",'NU_NOTA_REDACAO'\n",
    ",'Tipo Fase'\n",
    ",'Intervalo Idade'\n",
    ",'Sexo'\n",
    ",'Raça Declarada'\n",
    ",'Conclusão Ensino Médio'\n",
    ",'Tipo Escola'\n",
    ",'Status da Redação'\n",
    ",'Idioma Escolhido'\n",
    ",'Presença Natureza'\n",
    ",'Presença Humanas'\n",
    ",'Presença Linguagem'\n",
    ",'Presença Matemática'\n",
    ",'Acesso a Internet'\n",
    ",'Renda Familiar']"
   ]
  },
  {
   "cell_type": "code",
   "execution_count": 7,
   "metadata": {},
   "outputs": [],
   "source": [
    "df_microdados = df_microdados[filtro]"
   ]
  },
  {
   "cell_type": "code",
   "execution_count": 8,
   "metadata": {},
   "outputs": [],
   "source": [
    "df_microdados = df_microdados.rename(columns={'SG_UF_RESIDENCIA': 'UF'\n",
    ",'NU_IDADE':'Idade'\n",
    ",'NU_NOTA_CN':'Nota Ciencias da Natureza'\n",
    ",'NU_NOTA_CH':'Nota Ciencias Humanas'\n",
    ",'NU_NOTA_LC':'Nota Linguagem e Código'\n",
    ",'NU_NOTA_MT':'Nota Matemática'\n",
    ",'NU_NOTA_REDACAO':'Nota Redação'\n",
    ",'Tipo Fase':'Grupo Idade'})"
   ]
  },
  {
   "cell_type": "code",
   "execution_count": 10,
   "metadata": {},
   "outputs": [],
   "source": [
    "df_microdados.to_csv('DW.csv', encoding='ISO-8859-1', index=False,sep=\";\")"
   ]
  },
  {
   "cell_type": "markdown",
   "metadata": {},
   "source": [
    "<h1>Estrtura de dados</h1>\n",
    "<p>Ao Final o DW ficara asssim:</p>\n",
    "\n",
    "<img src=\"imagens/DW.PNG\" alt=\"Girl in a jacket\">"
   ]
  }
 ],
 "metadata": {
  "kernelspec": {
   "display_name": "Python 3",
   "language": "python",
   "name": "python3"
  },
  "language_info": {
   "codemirror_mode": {
    "name": "ipython",
    "version": 3
   },
   "file_extension": ".py",
   "mimetype": "text/x-python",
   "name": "python",
   "nbconvert_exporter": "python",
   "pygments_lexer": "ipython3",
   "version": "3.8.5"
  }
 },
 "nbformat": 4,
 "nbformat_minor": 4
}
